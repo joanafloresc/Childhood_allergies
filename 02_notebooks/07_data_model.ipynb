{
 "cells": [
  {
   "cell_type": "code",
   "execution_count": null,
   "id": "e695171b",
   "metadata": {},
   "outputs": [],
   "source": [
    "xy = pd.concat([data.iloc[:,-9:],x_sc], axis=1)\n",
    "xy_corr = xy.corr()[['atopic_derm_start', 'atopic_derm_end', 'allergic_rhinitis_start',\n",
    "       'allergic_rhinitis_end', 'asthma_start', 'asthma_end', 'first_asthmarx',\n",
    "       'last_asthmarx', 'num_asthmarx']]"
   ]
  },
  {
   "cell_type": "code",
   "execution_count": null,
   "id": "b634d9ea",
   "metadata": {},
   "outputs": [],
   "source": [
    "fig,ax = plt.subplots(figsize=(5,15))\n",
    "sns.heatmap(xy_corr, annot=True, annot_kws={\"size\": 35 / np.sqrt(len(xy_corr))})"
   ]
  }
 ],
 "metadata": {
  "kernelspec": {
   "display_name": "Python 3 (ipykernel)",
   "language": "python",
   "name": "python3"
  },
  "language_info": {
   "codemirror_mode": {
    "name": "ipython",
    "version": 3
   },
   "file_extension": ".py",
   "mimetype": "text/x-python",
   "name": "python",
   "nbconvert_exporter": "python",
   "pygments_lexer": "ipython3",
   "version": "3.9.16"
  }
 },
 "nbformat": 4,
 "nbformat_minor": 5
}
