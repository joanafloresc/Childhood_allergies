{
 "cells": [
  {
   "cell_type": "code",
   "execution_count": null,
   "id": "4ff6c8a2",
   "metadata": {},
   "outputs": [],
   "source": [
    "data.drop(['subject_id','birth_year','age_start_years','age_end_years','nut_c_s','nut_c_e'], axis=1).corr()[['atopic_derm_start','atopic_derm_end','allergic_rhinitis_start','allergic_rhinitis_end','asthma_start','asthma_end']]"
   ]
  }
 ],
 "metadata": {
  "kernelspec": {
   "display_name": "Python 3 (ipykernel)",
   "language": "python",
   "name": "python3"
  },
  "language_info": {
   "codemirror_mode": {
    "name": "ipython",
    "version": 3
   },
   "file_extension": ".py",
   "mimetype": "text/x-python",
   "name": "python",
   "nbconvert_exporter": "python",
   "pygments_lexer": "ipython3",
   "version": "3.9.16"
  }
 },
 "nbformat": 4,
 "nbformat_minor": 5
}
